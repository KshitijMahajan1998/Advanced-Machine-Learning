{
 "cells": [
  {
   "cell_type": "markdown",
   "metadata": {
    "id": "JKvSB2T_7DSd"
   },
   "source": [
    "<b> MIS 382N: ADVANCED MACHINE LEARNING<b>\n",
    "\n",
    "Assignment 5\n",
    "\n",
    "Total points: 55\n",
    "\n",
    "Due:  to be submitted via Canvas by 11:59 pm, Mon Nov 21st.\n",
    "\n",
    "Your homework should be written in a python notebook. If you prefer, you can work in groups of two. **Please note that only one student per team needs to submit the assignment on Canvas but make sure to include both students' names and UT EIDs.**\n",
    "\n",
    "For any question that requires a handwritten solution, you may upload scanned images of your solution in the notebook or attach them to the assignment . You may write your solution using markdown as well.\n",
    "\n",
    "Please make sure your code runs and the graphs and figures are displayed in your notebook before submitting. (%matplotlib inline)\n",
    "\n",
    "**Additionally, upload any images you plan to incorporate in your notebook as attachments so we can see them in case the uploaded images don't appear properly on our end.**"
   ]
  },
  {
   "cell_type": "markdown",
   "metadata": {
    "id": "c8BTU0m37IUE"
   },
   "source": [
    "**This can be an individual assignment or group of 2. If you choose to do it as a group, please specify who you are working with (name and EID), then only one student should submit the homework. Put your name and eid here.**\n",
    "\n",
    "Name: Disha Gandhi\n",
    "\n",
    "EID: dsg2258\n",
    "\n",
    "Name: Kshitij Mahajan\n",
    "\n",
    "EID: ksm3267"
   ]
  },
  {
   "cell_type": "code",
   "execution_count": 61,
   "metadata": {
    "id": "y4hIXJQUub6R"
   },
   "outputs": [],
   "source": [
    "import matplotlib.pyplot as plt\n",
    "from sklearn.model_selection import train_test_split,GridSearchCV\n",
    "from sklearn.calibration import calibration_curve\n",
    "import matplotlib.pyplot as plt\n",
    "from sklearn.metrics import accuracy_score,roc_auc_score\n",
    "from sklearn.ensemble import RandomForestClassifier, GradientBoostingClassifier, AdaBoostClassifier\n",
    "from sklearn.ensemble import RandomForestClassifier, BaggingClassifier\n",
    "from sklearn.metrics import confusion_matrix, plot_confusion_matrix\n",
    "from sklearn.tree import DecisionTreeClassifier\n",
    "from time import time\n",
    "import xgboost\n",
    "import pandas as pd\n",
    "import warnings\n",
    "\n",
    "%matplotlib inline"
   ]
  },
  {
   "cell_type": "markdown",
   "metadata": {
    "id": "jGfL_nla7Owr"
   },
   "source": [
    "# Question 1: Ensemble Methods [10 pts]\n",
    "Read this [article](https://towardsdatascience.com/catboost-vs-light-gbm-vs-xgboost-5f93620723db) on different boosting methods. Briefly describe the main advantages and disadvantages of  CatBoost as compared to XGBoost."
   ]
  },
  {
   "cell_type": "markdown",
   "metadata": {
    "id": "ffVeiLaguntO"
   },
   "source": [
    "#### Advantages of Catboost over XGBoost\n",
    "\n",
    "1. Catboost is 3.5 times faster when compared to XGBoost while training the model. This even applies to the time taken to tune the hyperparameters. \n",
    "2. XGboost is not using any weighted sampling techniques, which makes its splitting process slower compared to MVS which is the splitting technique used in Catboost.\n",
    "3. Unlike Catboost, XGboost cannot handle categorical features by itself, it only accepts numerical values similar to Random Forest. Therefore we have to first encode categorical data before passing it to the XGBoost model.\n",
    "4. There is no need to encode and transform any categorical data in case of Catboost, the model automatically handles it.\n",
    "5. Catboost builds symmetrically balanced trees which is not the case for XGBoost. In every node, leaves from the previous tree are split using the same condition. The feature that gives thelowest loss is the best split and used for all the level’s nodes. This architecture aids in efficient computational resource utilization, decreases prediction time, and controls overfitting. \n",
    "6. Catboost provides some inherent missing values strategies for processing missing values.\n",
    "\n",
    "\n",
    "#### Disadvantages of Catboost over XGBoost\n",
    "\n",
    "1. XGBoost is very transparent, because of the ease in plotting of trees probably because it has no built-in categorical feature encoding.\n",
    "2. Catboost works well only if we have categorical data otherwise the performance of XGboost and Catboost is the same. There is even slightly better performance of XGboost over Catboost in some cases.\n",
    "3. Catboost can perform very bad if the variables are not tuned properly."
   ]
  },
  {
   "cell_type": "markdown",
   "metadata": {
    "id": "Q5pwQYRU7dz6"
   },
   "source": [
    "# Question 2 : Ensemble Methods for Classification [25 pts]\n",
    "\n",
    "We look at the following dataset [GiveMeSomeCredit](https://www.kaggle.com/c/GiveMeSomeCredit) for this question. The dataset is extremely large so for this question we only consider a subset of the data which has been provided along with the notebook for this assignment.\n",
    "The task is to predict the probability that someone will experience financial distress in the next two years. The dataset has already been split into train and test sets."
   ]
  },
  {
   "cell_type": "code",
   "execution_count": 41,
   "metadata": {
    "colab": {
     "base_uri": "https://localhost:8080/",
     "height": 288
    },
    "id": "-cvY2yHO8TcQ",
    "outputId": "2939ba7a-0f9b-4574-cb6c-3298b186df5d"
   },
   "outputs": [
    {
     "data": {
      "text/html": [
       "<div>\n",
       "<style scoped>\n",
       "    .dataframe tbody tr th:only-of-type {\n",
       "        vertical-align: middle;\n",
       "    }\n",
       "\n",
       "    .dataframe tbody tr th {\n",
       "        vertical-align: top;\n",
       "    }\n",
       "\n",
       "    .dataframe thead th {\n",
       "        text-align: right;\n",
       "    }\n",
       "</style>\n",
       "<table border=\"1\" class=\"dataframe\">\n",
       "  <thead>\n",
       "    <tr style=\"text-align: right;\">\n",
       "      <th></th>\n",
       "      <th>SeriousDlqin2yrs</th>\n",
       "      <th>RevolvingUtilizationOfUnsecuredLines</th>\n",
       "      <th>age</th>\n",
       "      <th>NumberOfTime30-59DaysPastDueNotWorse</th>\n",
       "      <th>DebtRatio</th>\n",
       "      <th>MonthlyIncome</th>\n",
       "      <th>NumberOfOpenCreditLinesAndLoans</th>\n",
       "      <th>NumberOfTimes90DaysLate</th>\n",
       "      <th>NumberRealEstateLoansOrLines</th>\n",
       "      <th>NumberOfTime60-89DaysPastDueNotWorse</th>\n",
       "      <th>NumberOfDependents</th>\n",
       "    </tr>\n",
       "  </thead>\n",
       "  <tbody>\n",
       "    <tr>\n",
       "      <th>0</th>\n",
       "      <td>0</td>\n",
       "      <td>0.571373</td>\n",
       "      <td>66</td>\n",
       "      <td>0</td>\n",
       "      <td>0.430620</td>\n",
       "      <td>9274.0</td>\n",
       "      <td>10</td>\n",
       "      <td>0</td>\n",
       "      <td>1</td>\n",
       "      <td>0</td>\n",
       "      <td>0.0</td>\n",
       "    </tr>\n",
       "    <tr>\n",
       "      <th>1</th>\n",
       "      <td>0</td>\n",
       "      <td>0.233999</td>\n",
       "      <td>56</td>\n",
       "      <td>0</td>\n",
       "      <td>0.257380</td>\n",
       "      <td>5656.0</td>\n",
       "      <td>12</td>\n",
       "      <td>0</td>\n",
       "      <td>0</td>\n",
       "      <td>0</td>\n",
       "      <td>0.0</td>\n",
       "    </tr>\n",
       "    <tr>\n",
       "      <th>2</th>\n",
       "      <td>0</td>\n",
       "      <td>0.299270</td>\n",
       "      <td>33</td>\n",
       "      <td>0</td>\n",
       "      <td>0.114575</td>\n",
       "      <td>4747.0</td>\n",
       "      <td>8</td>\n",
       "      <td>0</td>\n",
       "      <td>0</td>\n",
       "      <td>0</td>\n",
       "      <td>3.0</td>\n",
       "    </tr>\n",
       "    <tr>\n",
       "      <th>3</th>\n",
       "      <td>0</td>\n",
       "      <td>0.032165</td>\n",
       "      <td>41</td>\n",
       "      <td>0</td>\n",
       "      <td>0.308326</td>\n",
       "      <td>8490.0</td>\n",
       "      <td>8</td>\n",
       "      <td>0</td>\n",
       "      <td>1</td>\n",
       "      <td>0</td>\n",
       "      <td>0.0</td>\n",
       "    </tr>\n",
       "    <tr>\n",
       "      <th>4</th>\n",
       "      <td>0</td>\n",
       "      <td>0.050591</td>\n",
       "      <td>36</td>\n",
       "      <td>0</td>\n",
       "      <td>0.862627</td>\n",
       "      <td>3333.0</td>\n",
       "      <td>8</td>\n",
       "      <td>0</td>\n",
       "      <td>2</td>\n",
       "      <td>0</td>\n",
       "      <td>0.0</td>\n",
       "    </tr>\n",
       "  </tbody>\n",
       "</table>\n",
       "</div>"
      ],
      "text/plain": [
       "   SeriousDlqin2yrs  RevolvingUtilizationOfUnsecuredLines  age  \\\n",
       "0                 0                              0.571373   66   \n",
       "1                 0                              0.233999   56   \n",
       "2                 0                              0.299270   33   \n",
       "3                 0                              0.032165   41   \n",
       "4                 0                              0.050591   36   \n",
       "\n",
       "   NumberOfTime30-59DaysPastDueNotWorse  DebtRatio  MonthlyIncome  \\\n",
       "0                                     0   0.430620         9274.0   \n",
       "1                                     0   0.257380         5656.0   \n",
       "2                                     0   0.114575         4747.0   \n",
       "3                                     0   0.308326         8490.0   \n",
       "4                                     0   0.862627         3333.0   \n",
       "\n",
       "   NumberOfOpenCreditLinesAndLoans  NumberOfTimes90DaysLate  \\\n",
       "0                               10                        0   \n",
       "1                               12                        0   \n",
       "2                                8                        0   \n",
       "3                                8                        0   \n",
       "4                                8                        0   \n",
       "\n",
       "   NumberRealEstateLoansOrLines  NumberOfTime60-89DaysPastDueNotWorse  \\\n",
       "0                             1                                     0   \n",
       "1                             0                                     0   \n",
       "2                             0                                     0   \n",
       "3                             1                                     0   \n",
       "4                             2                                     0   \n",
       "\n",
       "   NumberOfDependents  \n",
       "0                 0.0  \n",
       "1                 0.0  \n",
       "2                 3.0  \n",
       "3                 0.0  \n",
       "4                 0.0  "
      ]
     },
     "execution_count": 41,
     "metadata": {},
     "output_type": "execute_result"
    }
   ],
   "source": [
    "data = pd.read_csv('https://raw.githubusercontent.com/KshitijMahajan1998/AML_NEW/main/hw5_data.csv')\n",
    "data.drop(data.columns[data.columns.str.contains('unnamed',case = False)],axis = 1, inplace = True)\n",
    "data.head()"
   ]
  },
  {
   "cell_type": "code",
   "execution_count": 42,
   "metadata": {
    "colab": {
     "base_uri": "https://localhost:8080/"
    },
    "id": "VCiWKO8k83pd",
    "outputId": "610cd46c-3556-47c0-e4a8-070c98225a8c"
   },
   "outputs": [
    {
     "name": "stdout",
     "output_type": "stream",
     "text": [
      "train (3750, 10) (3750,)\n",
      "test (1250, 10) (1250,)\n"
     ]
    }
   ],
   "source": [
    "y = data['SeriousDlqin2yrs']\n",
    "X = data.drop(['SeriousDlqin2yrs'],axis=1)\n",
    "X_train, X_test, y_train, y_test = train_test_split(X, y, test_size = 0.25, random_state = 7)\n",
    "\n",
    "print('train',X_train.shape,y_train.shape)\n",
    "print('test',X_test.shape,y_test.shape)"
   ]
  },
  {
   "cell_type": "markdown",
   "metadata": {
    "id": "1J4ptb5l9Bca"
   },
   "source": [
    "In this question, we will compare performance of different ensemble methods for classification problems: [Bagging](https://scikit-learn.org/stable/modules/generated/sklearn.ensemble.BaggingClassifier.html), [AdaBoost](https://scikit-learn.org/stable/modules/generated/sklearn.ensemble.AdaBoostClassifier.html), and [Random Forest](https://scikit-learn.org/stable/modules/generated/sklearn.ensemble.RandomForestClassifier.html) Classifiers.\n",
    "\n",
    "a) **[2.5 pts]** Use a Decision Tree Classifier with random_state = 14 for the classification problem. Report the accuracy_score and roc_auc_score on the test data for the classifier.\n",
    "\n",
    "b) **[2.5 pts]** Create an ensemble of 25 classifiers (i.e n_estimators = 25) with random_state = 14 for [bagging](https://scikit-learn.org/stable/modules/generated/sklearn.ensemble.BaggingClassifier.html) with base classifier as Decision Tree Classifier from part a). Report accuracy_score and roc_auc_score on the test data for the Bagging classifiers. \n",
    "\n",
    "c) **[5 pts]** Use the training data and build a [Random Forest](http://scikit-learn.org/stable/modules/generated/sklearn.ensemble.RandomForestClassifier.html) model for the classification problem. Find the best parameters (including *n_estimators*, *max_features* and *criterion*) using [GridSearchCV](http://scikit-learn.org/stable/modules/generated/sklearn.model_selection.GridSearchCV.html). Report the optimal parameters obtained by GridSearch. Report the confusion matrix  and [roc_auc_score](http://scikit-learn.org/stable/modules/generated/sklearn.metrics.roc_auc_score.html#sklearn.metrics.roc_auc_score) on test data using the model fit with best parameters.\n",
    "\n",
    "d) **[5 pts]** Use [AdaBoost](http://scikit-learn.org/stable/modules/generated/sklearn.ensemble.AdaBoostClassifier.html#sklearn.ensemble.AdaBoostClassifier) for this problem. Again, find the best parameters (including *n_estimators, learning_rate*), and report the confusion matrix and roc_auc_score on test data for the classifier fit with best parameters found using training data.\n",
    "\n",
    "e) **[5 pts]** Use [Gradient Boosting](https://scikit-learn.org/stable/modules/generated/sklearn.ensemble.GradientBoostingClassifier.html) for this problem. Again, find the best parameters (including *n_estimators, learning_rate*), and report the confusion matrix and roc_auc_score on test data for the classifier fit with best parameters found using training data.\n",
    "\n",
    "f) **[5 pts]** Compare the performance of decision tree from part a) with the ensemble methods, Briefly explain which of the three ensemble method performed better and why?"
   ]
  },
  {
   "cell_type": "code",
   "execution_count": 44,
   "metadata": {
    "id": "Db2-Md7SSkn1"
   },
   "outputs": [],
   "source": [
    "columns_list = list(X.columns)"
   ]
  },
  {
   "cell_type": "markdown",
   "metadata": {},
   "source": [
    "a) **[2.5 pts]** Use a Decision Tree Classifier with random_state = 14 for the classification problem. Report the accuracy_score and roc_auc_score on the test data for the classifier."
   ]
  },
  {
   "cell_type": "code",
   "execution_count": 45,
   "metadata": {
    "id": "X7p84Jd6Sr5c"
   },
   "outputs": [
    {
     "name": "stdout",
     "output_type": "stream",
     "text": [
      "Accuracy Score :  88.8\n",
      "ROC_AUC score :  58.54582176218127\n"
     ]
    }
   ],
   "source": [
    "# Part a)\n",
    "dcf= DecisionTreeClassifier(random_state = 14 )\n",
    "  \n",
    "# Performing training\n",
    "dcf.fit(X_train, y_train)\n",
    "y_pred=dcf.predict(X_test)\n",
    "y_pred_prob=dcf.predict_proba(X_test)[:,1]\n",
    "results=pd.DataFrame(columns=['Model','Accuracy Score','ROC_AUC Score'])\n",
    "new_row={'Model':'Decision Tree','Accuracy Score':accuracy_score(y_test,y_pred)*100,'ROC_AUC Score':roc_auc_score(y_test,y_pred_prob)*100}\n",
    "results=results.append(new_row,ignore_index=True)\n",
    "print (\"Accuracy Score : \", accuracy_score(y_test,y_pred)*100)\n",
    "print (\"ROC_AUC score : \", roc_auc_score(y_test,y_pred_prob)*100)"
   ]
  },
  {
   "cell_type": "markdown",
   "metadata": {},
   "source": [
    "b) **[2.5 pts]** Create an ensemble of 25 classifiers (i.e n_estimators = 25) with random_state = 14 for [bagging](https://scikit-learn.org/stable/modules/generated/sklearn.ensemble.BaggingClassifier.html) with base classifier as Decision Tree Classifier from part a). Report accuracy_score and roc_auc_score on the test data for the Bagging classifiers. "
   ]
  },
  {
   "cell_type": "code",
   "execution_count": 46,
   "metadata": {
    "id": "eu7882XwSubQ"
   },
   "outputs": [
    {
     "name": "stdout",
     "output_type": "stream",
     "text": [
      "Accuracy Score :  92.56\n",
      "ROC_AUC score :  78.5710679121434\n"
     ]
    }
   ],
   "source": [
    "# Part b)\n",
    "clf = BaggingClassifier(n_estimators=25, random_state=14).fit(X_train, y_train)\n",
    "y_pred=clf.predict(X_test)\n",
    "y_pred_prob=clf.predict_proba(X_test)[:,1]\n",
    "new_row={'Model':'Bagging','Accuracy Score':accuracy_score(y_test,y_pred)*100,'ROC_AUC Score':roc_auc_score(y_test,y_pred_prob)*100}\n",
    "results=results.append(new_row,ignore_index=True)\n",
    "print (\"Accuracy Score : \", accuracy_score(y_test,y_pred)*100)\n",
    "print (\"ROC_AUC score : \", roc_auc_score(y_test,y_pred_prob)*100)"
   ]
  },
  {
   "cell_type": "markdown",
   "metadata": {},
   "source": [
    "c) **[5 pts]** Use the training data and build a [Random Forest](http://scikit-learn.org/stable/modules/generated/sklearn.ensemble.RandomForestClassifier.html) model for the classification problem. Find the best parameters (including *n_estimators*, *max_features* and *criterion*) using [GridSearchCV](http://scikit-learn.org/stable/modules/generated/sklearn.model_selection.GridSearchCV.html). Report the optimal parameters obtained by GridSearch. Report the confusion matrix  and [roc_auc_score](http://scikit-learn.org/stable/modules/generated/sklearn.metrics.roc_auc_score.html#sklearn.metrics.roc_auc_score) on test data using the model fit with best parameters."
   ]
  },
  {
   "cell_type": "code",
   "execution_count": 47,
   "metadata": {
    "id": "1PEjQ1fJSxAB"
   },
   "outputs": [
    {
     "name": "stdout",
     "output_type": "stream",
     "text": [
      "Best parameters - Random Forest\n",
      "{'criterion': 'entropy', 'max_features': 1, 'n_estimators': 100, 'random_state': 17}\n"
     ]
    }
   ],
   "source": [
    "# Part c)\n",
    "warnings.simplefilter(action='ignore', category=FutureWarning)\n",
    "\n",
    "clf = RandomForestClassifier()\n",
    "\n",
    "param_grid = {\"n_estimators\": [1, 10, 50, 100],\n",
    "              \"max_features\": [1, 5, 10, \"auto\"],\n",
    "              \"criterion\": ['gini','entropy'],\n",
    "              \"random_state\": [17]}\n",
    "# Grid search\n",
    "CV_rfc = GridSearchCV(estimator=clf, param_grid=param_grid)\n",
    "CV_rfc.fit(X_train, y_train)\n",
    "print (\"Best parameters - Random Forest\")\n",
    "print (CV_rfc.best_params_)\n"
   ]
  },
  {
   "cell_type": "code",
   "execution_count": 48,
   "metadata": {},
   "outputs": [
    {
     "name": "stdout",
     "output_type": "stream",
     "text": [
      "Accuracy for Random Forest on test data:  93.2\n",
      "ROC AUC score for Random Forest on test data:  83.75612219136582\n"
     ]
    }
   ],
   "source": [
    "best_param_RF = CV_rfc.best_estimator_\n",
    "pred=best_param_RF.predict(X_test)\n",
    "pred_prob=best_param_RF.predict_proba(X_test)[:,1]\n",
    "new_row={'Model':'Random Forest','Accuracy Score':accuracy_score(y_test,y_pred)*100,'ROC_AUC Score':roc_auc_score(y_test,y_pred_prob)*100}\n",
    "results=results.append(new_row,ignore_index=True)\n",
    "print(\"Accuracy for Random Forest on test data: \",accuracy_score(y_test,pred)*100)\n",
    "print(\"ROC AUC score for Random Forest on test data: \",roc_auc_score(y_test,pred_prob)*100)"
   ]
  },
  {
   "cell_type": "code",
   "execution_count": 49,
   "metadata": {},
   "outputs": [
    {
     "data": {
      "text/plain": [
       "<sklearn.metrics._plot.confusion_matrix.ConfusionMatrixDisplay at 0x7fc66c42faf0>"
      ]
     },
     "execution_count": 49,
     "metadata": {},
     "output_type": "execute_result"
    },
    {
     "data": {
      "image/png": "[encoded data removed]",
      "text/plain": [
       "<Figure size 432x288 with 2 Axes>"
      ]
     },
     "metadata": {
      "needs_background": "light"
     },
     "output_type": "display_data"
    }
   ],
   "source": [
    "#Confusion matrix \n",
    "plot_confusion_matrix(CV_rfc, X_test, y_true=y_test)\n"
   ]
  },
  {
   "cell_type": "markdown",
   "metadata": {},
   "source": [
    "d) **[5 pts]** Use [AdaBoost](http://scikit-learn.org/stable/modules/generated/sklearn.ensemble.AdaBoostClassifier.html#sklearn.ensemble.AdaBoostClassifier) for this problem. Again, find the best parameters (including *n_estimators, learning_rate*), and report the confusion matrix and roc_auc_score on test data for the classifier fit with best parameters found using training data."
   ]
  },
  {
   "cell_type": "code",
   "execution_count": 50,
   "metadata": {
    "id": "X7cPUJcDwIIe"
   },
   "outputs": [
    {
     "data": {
      "text/html": [
       "<style>#sk-container-id-4 {color: black;background-color: white;}#sk-container-id-4 pre{padding: 0;}#sk-container-id-4 div.sk-toggleable {background-color: white;}#sk-container-id-4 label.sk-toggleable__label {cursor: pointer;display: block;width: 100%;margin-bottom: 0;padding: 0.3em;box-sizing: border-box;text-align: center;}#sk-container-id-4 label.sk-toggleable__label-arrow:before {content: \"▸\";float: left;margin-right: 0.25em;color: #696969;}#sk-container-id-4 label.sk-toggleable__label-arrow:hover:before {color: black;}#sk-container-id-4 div.sk-estimator:hover label.sk-toggleable__label-arrow:before {color: black;}#sk-container-id-4 div.sk-toggleable__content {max-height: 0;max-width: 0;overflow: hidden;text-align: left;background-color: #f0f8ff;}#sk-container-id-4 div.sk-toggleable__content pre {margin: 0.2em;color: black;border-radius: 0.25em;background-color: #f0f8ff;}#sk-container-id-4 input.sk-toggleable__control:checked~div.sk-toggleable__content {max-height: 200px;max-width: 100%;overflow: auto;}#sk-container-id-4 input.sk-toggleable__control:checked~label.sk-toggleable__label-arrow:before {content: \"▾\";}#sk-container-id-4 div.sk-estimator input.sk-toggleable__control:checked~label.sk-toggleable__label {background-color: #d4ebff;}#sk-container-id-4 div.sk-label input.sk-toggleable__control:checked~label.sk-toggleable__label {background-color: #d4ebff;}#sk-container-id-4 input.sk-hidden--visually {border: 0;clip: rect(1px 1px 1px 1px);clip: rect(1px, 1px, 1px, 1px);height: 1px;margin: -1px;overflow: hidden;padding: 0;position: absolute;width: 1px;}#sk-container-id-4 div.sk-estimator {font-family: monospace;background-color: #f0f8ff;border: 1px dotted black;border-radius: 0.25em;box-sizing: border-box;margin-bottom: 0.5em;}#sk-container-id-4 div.sk-estimator:hover {background-color: #d4ebff;}#sk-container-id-4 div.sk-parallel-item::after {content: \"\";width: 100%;border-bottom: 1px solid gray;flex-grow: 1;}#sk-container-id-4 div.sk-label:hover label.sk-toggleable__label {background-color: #d4ebff;}#sk-container-id-4 div.sk-serial::before {content: \"\";position: absolute;border-left: 1px solid gray;box-sizing: border-box;top: 0;bottom: 0;left: 50%;z-index: 0;}#sk-container-id-4 div.sk-serial {display: flex;flex-direction: column;align-items: center;background-color: white;padding-right: 0.2em;padding-left: 0.2em;position: relative;}#sk-container-id-4 div.sk-item {position: relative;z-index: 1;}#sk-container-id-4 div.sk-parallel {display: flex;align-items: stretch;justify-content: center;background-color: white;position: relative;}#sk-container-id-4 div.sk-item::before, #sk-container-id-4 div.sk-parallel-item::before {content: \"\";position: absolute;border-left: 1px solid gray;box-sizing: border-box;top: 0;bottom: 0;left: 50%;z-index: -1;}#sk-container-id-4 div.sk-parallel-item {display: flex;flex-direction: column;z-index: 1;position: relative;background-color: white;}#sk-container-id-4 div.sk-parallel-item:first-child::after {align-self: flex-end;width: 50%;}#sk-container-id-4 div.sk-parallel-item:last-child::after {align-self: flex-start;width: 50%;}#sk-container-id-4 div.sk-parallel-item:only-child::after {width: 0;}#sk-container-id-4 div.sk-dashed-wrapped {border: 1px dashed gray;margin: 0 0.4em 0.5em 0.4em;box-sizing: border-box;padding-bottom: 0.4em;background-color: white;}#sk-container-id-4 div.sk-label label {font-family: monospace;font-weight: bold;display: inline-block;line-height: 1.2em;}#sk-container-id-4 div.sk-label-container {text-align: center;}#sk-container-id-4 div.sk-container {/* jupyter's `normalize.less` sets `[hidden] { display: none; }` but bootstrap.min.css set `[hidden] { display: none !important; }` so we also need the `!important` here to be able to override the default hidden behavior on the sphinx rendered scikit-learn.org. See: https://github.com/scikit-learn/scikit-learn/issues/21755 */display: inline-block !important;position: relative;}#sk-container-id-4 div.sk-text-repr-fallback {display: none;}</style><div id=\"sk-container-id-4\" class=\"sk-top-container\"><div class=\"sk-text-repr-fallback\"><pre>GridSearchCV(estimator=AdaBoostClassifier(),\n",
       "             param_grid={&#x27;learning_rate&#x27;: [0.01, 0.1, 0.5],\n",
       "                         &#x27;n_estimators&#x27;: [10, 100], &#x27;random_state&#x27;: [17]})</pre><b>In a Jupyter environment, please rerun this cell to show the HTML representation or trust the notebook. <br />On GitHub, the HTML representation is unable to render, please try loading this page with nbviewer.org.</b></div><div class=\"sk-container\" hidden><div class=\"sk-item sk-dashed-wrapped\"><div class=\"sk-label-container\"><div class=\"sk-label sk-toggleable\"><input class=\"sk-toggleable__control sk-hidden--visually\" id=\"sk-estimator-id-10\" type=\"checkbox\" ><label for=\"sk-estimator-id-10\" class=\"sk-toggleable__label sk-toggleable__label-arrow\">GridSearchCV</label><div class=\"sk-toggleable__content\"><pre>GridSearchCV(estimator=AdaBoostClassifier(),\n",
       "             param_grid={&#x27;learning_rate&#x27;: [0.01, 0.1, 0.5],\n",
       "                         &#x27;n_estimators&#x27;: [10, 100], &#x27;random_state&#x27;: [17]})</pre></div></div></div><div class=\"sk-parallel\"><div class=\"sk-parallel-item\"><div class=\"sk-item\"><div class=\"sk-label-container\"><div class=\"sk-label sk-toggleable\"><input class=\"sk-toggleable__control sk-hidden--visually\" id=\"sk-estimator-id-11\" type=\"checkbox\" ><label for=\"sk-estimator-id-11\" class=\"sk-toggleable__label sk-toggleable__label-arrow\">estimator: AdaBoostClassifier</label><div class=\"sk-toggleable__content\"><pre>AdaBoostClassifier()</pre></div></div></div><div class=\"sk-serial\"><div class=\"sk-item\"><div class=\"sk-estimator sk-toggleable\"><input class=\"sk-toggleable__control sk-hidden--visually\" id=\"sk-estimator-id-12\" type=\"checkbox\" ><label for=\"sk-estimator-id-12\" class=\"sk-toggleable__label sk-toggleable__label-arrow\">AdaBoostClassifier</label><div class=\"sk-toggleable__content\"><pre>AdaBoostClassifier()</pre></div></div></div></div></div></div></div></div></div></div>"
      ],
      "text/plain": [
       "GridSearchCV(estimator=AdaBoostClassifier(),\n",
       "             param_grid={'learning_rate': [0.01, 0.1, 0.5],\n",
       "                         'n_estimators': [10, 100], 'random_state': [17]})"
      ]
     },
     "execution_count": 50,
     "metadata": {},
     "output_type": "execute_result"
    }
   ],
   "source": [
    "# Part d)\n",
    "clf = AdaBoostClassifier()\n",
    "\n",
    "param_grid = {\"n_estimators\": [10, 100],\n",
    "          \"learning_rate\": [0.01, 0.1, 0.5],\n",
    "          \"random_state\": [17]\n",
    "          }\n",
    "\n",
    "# Grid search\n",
    "CV_ada = GridSearchCV(clf,param_grid)\n",
    "CV_ada.fit(X_train, y_train)"
   ]
  },
  {
   "cell_type": "code",
   "execution_count": 51,
   "metadata": {},
   "outputs": [
    {
     "name": "stdout",
     "output_type": "stream",
     "text": [
      "Best parameters - Adaboost\n",
      "{'learning_rate': 0.1, 'n_estimators': 100, 'random_state': 17}\n"
     ]
    }
   ],
   "source": [
    "print (\"Best parameters - Adaboost\")\n",
    "print (CV_ada.best_params_)"
   ]
  },
  {
   "cell_type": "code",
   "execution_count": 52,
   "metadata": {},
   "outputs": [
    {
     "name": "stdout",
     "output_type": "stream",
     "text": [
      "Accuracy for Adaboost on test data:  93.28\n",
      "ROC AUC score for Adaboost on test data:  83.90254986114618\n"
     ]
    }
   ],
   "source": [
    "best_param_ada= CV_ada.best_estimator_\n",
    "pred_ada=best_param_ada.predict(X_test)\n",
    "pred_prob=best_param_ada.predict_proba(X_test)[:,1]\n",
    "new_row={'Model':'Adaboost','Accuracy Score':accuracy_score(y_test,pred_ada)*100,'ROC_AUC Score':roc_auc_score(y_test,pred_prob)*100}\n",
    "results=results.append(new_row,ignore_index=True)\n",
    "print(\"Accuracy for Adaboost on test data: \",accuracy_score(y_test,pred_ada)*100)\n",
    "print(\"ROC AUC score for Adaboost on test data: \",roc_auc_score(y_test,pred_prob)*100)"
   ]
  },
  {
   "cell_type": "code",
   "execution_count": 53,
   "metadata": {},
   "outputs": [
    {
     "data": {
      "text/plain": [
       "<sklearn.metrics._plot.confusion_matrix.ConfusionMatrixDisplay at 0x7fc65843ab20>"
      ]
     },
     "execution_count": 53,
     "metadata": {},
     "output_type": "execute_result"
    },
    {
     "data": {
      "image/png": "[encoded data removed]",
      "text/plain": [
       "<Figure size 432x288 with 2 Axes>"
      ]
     },
     "metadata": {
      "needs_background": "light"
     },
     "output_type": "display_data"
    }
   ],
   "source": [
    "#Confusion matrix \n",
    "plot_confusion_matrix(CV_ada, X_test, y_true=y_test)"
   ]
  },
  {
   "cell_type": "markdown",
   "metadata": {},
   "source": [
    "e) **[5 pts]** Use [Gradient Boosting](https://scikit-learn.org/stable/modules/generated/sklearn.ensemble.GradientBoostingClassifier.html) for this problem. Again, find the best parameters (including *n_estimators, learning_rate*), and report the confusion matrix and roc_auc_score on test data for the classifier fit with best parameters found using training data."
   ]
  },
  {
   "cell_type": "code",
   "execution_count": 54,
   "metadata": {
    "id": "9TsB5OT7_FPW"
   },
   "outputs": [
    {
     "data": {
      "text/html": [
       "<style>#sk-container-id-5 {color: black;background-color: white;}#sk-container-id-5 pre{padding: 0;}#sk-container-id-5 div.sk-toggleable {background-color: white;}#sk-container-id-5 label.sk-toggleable__label {cursor: pointer;display: block;width: 100%;margin-bottom: 0;padding: 0.3em;box-sizing: border-box;text-align: center;}#sk-container-id-5 label.sk-toggleable__label-arrow:before {content: \"▸\";float: left;margin-right: 0.25em;color: #696969;}#sk-container-id-5 label.sk-toggleable__label-arrow:hover:before {color: black;}#sk-container-id-5 div.sk-estimator:hover label.sk-toggleable__label-arrow:before {color: black;}#sk-container-id-5 div.sk-toggleable__content {max-height: 0;max-width: 0;overflow: hidden;text-align: left;background-color: #f0f8ff;}#sk-container-id-5 div.sk-toggleable__content pre {margin: 0.2em;color: black;border-radius: 0.25em;background-color: #f0f8ff;}#sk-container-id-5 input.sk-toggleable__control:checked~div.sk-toggleable__content {max-height: 200px;max-width: 100%;overflow: auto;}#sk-container-id-5 input.sk-toggleable__control:checked~label.sk-toggleable__label-arrow:before {content: \"▾\";}#sk-container-id-5 div.sk-estimator input.sk-toggleable__control:checked~label.sk-toggleable__label {background-color: #d4ebff;}#sk-container-id-5 div.sk-label input.sk-toggleable__control:checked~label.sk-toggleable__label {background-color: #d4ebff;}#sk-container-id-5 input.sk-hidden--visually {border: 0;clip: rect(1px 1px 1px 1px);clip: rect(1px, 1px, 1px, 1px);height: 1px;margin: -1px;overflow: hidden;padding: 0;position: absolute;width: 1px;}#sk-container-id-5 div.sk-estimator {font-family: monospace;background-color: #f0f8ff;border: 1px dotted black;border-radius: 0.25em;box-sizing: border-box;margin-bottom: 0.5em;}#sk-container-id-5 div.sk-estimator:hover {background-color: #d4ebff;}#sk-container-id-5 div.sk-parallel-item::after {content: \"\";width: 100%;border-bottom: 1px solid gray;flex-grow: 1;}#sk-container-id-5 div.sk-label:hover label.sk-toggleable__label {background-color: #d4ebff;}#sk-container-id-5 div.sk-serial::before {content: \"\";position: absolute;border-left: 1px solid gray;box-sizing: border-box;top: 0;bottom: 0;left: 50%;z-index: 0;}#sk-container-id-5 div.sk-serial {display: flex;flex-direction: column;align-items: center;background-color: white;padding-right: 0.2em;padding-left: 0.2em;position: relative;}#sk-container-id-5 div.sk-item {position: relative;z-index: 1;}#sk-container-id-5 div.sk-parallel {display: flex;align-items: stretch;justify-content: center;background-color: white;position: relative;}#sk-container-id-5 div.sk-item::before, #sk-container-id-5 div.sk-parallel-item::before {content: \"\";position: absolute;border-left: 1px solid gray;box-sizing: border-box;top: 0;bottom: 0;left: 50%;z-index: -1;}#sk-container-id-5 div.sk-parallel-item {display: flex;flex-direction: column;z-index: 1;position: relative;background-color: white;}#sk-container-id-5 div.sk-parallel-item:first-child::after {align-self: flex-end;width: 50%;}#sk-container-id-5 div.sk-parallel-item:last-child::after {align-self: flex-start;width: 50%;}#sk-container-id-5 div.sk-parallel-item:only-child::after {width: 0;}#sk-container-id-5 div.sk-dashed-wrapped {border: 1px dashed gray;margin: 0 0.4em 0.5em 0.4em;box-sizing: border-box;padding-bottom: 0.4em;background-color: white;}#sk-container-id-5 div.sk-label label {font-family: monospace;font-weight: bold;display: inline-block;line-height: 1.2em;}#sk-container-id-5 div.sk-label-container {text-align: center;}#sk-container-id-5 div.sk-container {/* jupyter's `normalize.less` sets `[hidden] { display: none; }` but bootstrap.min.css set `[hidden] { display: none !important; }` so we also need the `!important` here to be able to override the default hidden behavior on the sphinx rendered scikit-learn.org. See: https://github.com/scikit-learn/scikit-learn/issues/21755 */display: inline-block !important;position: relative;}#sk-container-id-5 div.sk-text-repr-fallback {display: none;}</style><div id=\"sk-container-id-5\" class=\"sk-top-container\"><div class=\"sk-text-repr-fallback\"><pre>GridSearchCV(estimator=GradientBoostingClassifier(),\n",
       "             param_grid={&#x27;learning_rate&#x27;: [0.01, 0.1, 0.5],\n",
       "                         &#x27;n_estimators&#x27;: [10, 100], &#x27;random_state&#x27;: [17]})</pre><b>In a Jupyter environment, please rerun this cell to show the HTML representation or trust the notebook. <br />On GitHub, the HTML representation is unable to render, please try loading this page with nbviewer.org.</b></div><div class=\"sk-container\" hidden><div class=\"sk-item sk-dashed-wrapped\"><div class=\"sk-label-container\"><div class=\"sk-label sk-toggleable\"><input class=\"sk-toggleable__control sk-hidden--visually\" id=\"sk-estimator-id-13\" type=\"checkbox\" ><label for=\"sk-estimator-id-13\" class=\"sk-toggleable__label sk-toggleable__label-arrow\">GridSearchCV</label><div class=\"sk-toggleable__content\"><pre>GridSearchCV(estimator=GradientBoostingClassifier(),\n",
       "             param_grid={&#x27;learning_rate&#x27;: [0.01, 0.1, 0.5],\n",
       "                         &#x27;n_estimators&#x27;: [10, 100], &#x27;random_state&#x27;: [17]})</pre></div></div></div><div class=\"sk-parallel\"><div class=\"sk-parallel-item\"><div class=\"sk-item\"><div class=\"sk-label-container\"><div class=\"sk-label sk-toggleable\"><input class=\"sk-toggleable__control sk-hidden--visually\" id=\"sk-estimator-id-14\" type=\"checkbox\" ><label for=\"sk-estimator-id-14\" class=\"sk-toggleable__label sk-toggleable__label-arrow\">estimator: GradientBoostingClassifier</label><div class=\"sk-toggleable__content\"><pre>GradientBoostingClassifier()</pre></div></div></div><div class=\"sk-serial\"><div class=\"sk-item\"><div class=\"sk-estimator sk-toggleable\"><input class=\"sk-toggleable__control sk-hidden--visually\" id=\"sk-estimator-id-15\" type=\"checkbox\" ><label for=\"sk-estimator-id-15\" class=\"sk-toggleable__label sk-toggleable__label-arrow\">GradientBoostingClassifier</label><div class=\"sk-toggleable__content\"><pre>GradientBoostingClassifier()</pre></div></div></div></div></div></div></div></div></div></div>"
      ],
      "text/plain": [
       "GridSearchCV(estimator=GradientBoostingClassifier(),\n",
       "             param_grid={'learning_rate': [0.01, 0.1, 0.5],\n",
       "                         'n_estimators': [10, 100], 'random_state': [17]})"
      ]
     },
     "execution_count": 54,
     "metadata": {},
     "output_type": "execute_result"
    }
   ],
   "source": [
    "# Part e)\n",
    "clf = GradientBoostingClassifier()\n",
    "\n",
    "param_grid = {\"n_estimators\": [10, 100],\n",
    "          \"learning_rate\": [0.01, 0.1, 0.5],\n",
    "          \"random_state\": [17]\n",
    "          }\n",
    "# Grid search\n",
    "CV_gbc = GridSearchCV(clf,param_grid)\n",
    "CV_gbc.fit(X_train, y_train)"
   ]
  },
  {
   "cell_type": "code",
   "execution_count": 55,
   "metadata": {},
   "outputs": [
    {
     "name": "stdout",
     "output_type": "stream",
     "text": [
      "Best parameters - Gradient Boosting\n",
      "{'learning_rate': 0.1, 'n_estimators': 10, 'random_state': 17}\n"
     ]
    }
   ],
   "source": [
    "print (\"Best parameters - Gradient Boosting\")\n",
    "print (CV_gbc.best_params_)"
   ]
  },
  {
   "cell_type": "code",
   "execution_count": 56,
   "metadata": {},
   "outputs": [
    {
     "name": "stdout",
     "output_type": "stream",
     "text": [
      "Accuracy for Gradient Boosting on test data:  93.2\n",
      "ROC AUC score for Gradient Boosting on test data:  83.66372128250441\n"
     ]
    }
   ],
   "source": [
    "best_param_gbc = CV_gbc.best_estimator_\n",
    "pred_gbc=best_param_gbc.predict(X_test)\n",
    "pred_prob=best_param_gbc.predict_proba(X_test)[:,1]\n",
    "new_row={'Model':'Gradient Boosting','Accuracy Score':accuracy_score(y_test,pred_gbc)*100,'ROC_AUC Score':roc_auc_score(y_test,pred_prob)*100}\n",
    "results=results.append(new_row,ignore_index=True)\n",
    "print(\"Accuracy for Gradient Boosting on test data: \",accuracy_score(y_test,pred_gbc)*100)\n",
    "print(\"ROC AUC score for Gradient Boosting on test data: \",roc_auc_score(y_test,pred_prob)*100)"
   ]
  },
  {
   "cell_type": "code",
   "execution_count": 57,
   "metadata": {},
   "outputs": [
    {
     "data": {
      "text/plain": [
       "<sklearn.metrics._plot.confusion_matrix.ConfusionMatrixDisplay at 0x7fc66c4256a0>"
      ]
     },
     "execution_count": 57,
     "metadata": {},
     "output_type": "execute_result"
    },
    {
     "data": {
      "image/png": "[encoded data removed]",
      "text/plain": [
       "<Figure size 432x288 with 2 Axes>"
      ]
     },
     "metadata": {
      "needs_background": "light"
     },
     "output_type": "display_data"
    }
   ],
   "source": [
    "#Confusion matrix \n",
    "plot_confusion_matrix(CV_gbc, X_test, y_true=y_test)"
   ]
  },
  {
   "cell_type": "markdown",
   "metadata": {},
   "source": [
    "f) **[5 pts]** Compare the performance of decision tree from part a) with the ensemble methods, Briefly explain which of the three ensemble method performed better and why?"
   ]
  },
  {
   "cell_type": "code",
   "execution_count": 59,
   "metadata": {
    "id": "gZZ8VZaD-zm7"
   },
   "outputs": [
    {
     "data": {
      "text/html": [
       "<div>\n",
       "<style scoped>\n",
       "    .dataframe tbody tr th:only-of-type {\n",
       "        vertical-align: middle;\n",
       "    }\n",
       "\n",
       "    .dataframe tbody tr th {\n",
       "        vertical-align: top;\n",
       "    }\n",
       "\n",
       "    .dataframe thead th {\n",
       "        text-align: right;\n",
       "    }\n",
       "</style>\n",
       "<table border=\"1\" class=\"dataframe\">\n",
       "  <thead>\n",
       "    <tr style=\"text-align: right;\">\n",
       "      <th></th>\n",
       "      <th>Model</th>\n",
       "      <th>Accuracy Score</th>\n",
       "      <th>ROC_AUC Score</th>\n",
       "    </tr>\n",
       "  </thead>\n",
       "  <tbody>\n",
       "    <tr>\n",
       "      <th>0</th>\n",
       "      <td>Decision Tree</td>\n",
       "      <td>88.8</td>\n",
       "      <td>58.545822</td>\n",
       "    </tr>\n",
       "    <tr>\n",
       "      <th>1</th>\n",
       "      <td>Bagging</td>\n",
       "      <td>92.56</td>\n",
       "      <td>78.571068</td>\n",
       "    </tr>\n",
       "    <tr>\n",
       "      <th>2</th>\n",
       "      <td>Random Forest</td>\n",
       "      <td>92.56</td>\n",
       "      <td>78.571068</td>\n",
       "    </tr>\n",
       "    <tr>\n",
       "      <th>3</th>\n",
       "      <td>Adaboost</td>\n",
       "      <td>93.28</td>\n",
       "      <td>83.90255</td>\n",
       "    </tr>\n",
       "    <tr>\n",
       "      <th>4</th>\n",
       "      <td>Gradient Boosting</td>\n",
       "      <td>93.2</td>\n",
       "      <td>83.663721</td>\n",
       "    </tr>\n",
       "  </tbody>\n",
       "</table>\n",
       "</div>"
      ],
      "text/plain": [
       "               Model Accuracy Score ROC_AUC Score\n",
       "0      Decision Tree           88.8     58.545822\n",
       "1            Bagging          92.56     78.571068\n",
       "2      Random Forest          92.56     78.571068\n",
       "3           Adaboost          93.28      83.90255\n",
       "4  Gradient Boosting           93.2     83.663721"
      ]
     },
     "execution_count": 59,
     "metadata": {},
     "output_type": "execute_result"
    }
   ],
   "source": [
    "results"
   ]
  },
  {
   "cell_type": "markdown",
   "metadata": {},
   "source": [
    "1.Adaboost have the best accuracy among the three ensemble models and hence performs the best. It performs better than GBM. This can be accounted to the overfitting of GBM.\n",
    "\n",
    "2 Ensemble methods have  slightly better accuraacy scores than decision tree. The reason behind this can be the imbalance in our dataset as seen previously.\n",
    "\n",
    "3.Considering ROC_AUC score, decision tree classifier has better score when compared to three ensemble methods."
   ]
  },
  {
   "cell_type": "markdown",
   "metadata": {
    "id": "TP9yD4ZEmNAu"
   },
   "source": [
    "## Question 3: XGBoost on Datasets with varying Class Imbalance [15 points]\n",
    "\n",
    "You are given three datasets (all extracted from the [GiveMeSomeCredit](https://www.kaggle.com/c/GiveMeSomeCredit) dataset which was used in the last question). They have varying levels of class imbalance (positive to negative class ratio):\n",
    "1. dataset_equally_biased_final has a class ratio of 1:1\n",
    "2. dataset_originally_biased_final has a class ratio of 1:15\n",
    "3. dataset_highly_biased_final has a class ratio of 1:39\n",
    "\n",
    "Use [XGBoost](https://xgboost.readthedocs.io/en/stable/python/python_api.html) on these three datasets and plot the [calibration curves](https://scikit-learn.org/stable/modules/generated/sklearn.calibration.calibration_curve.html#sklearn.calibration.calibration_curve) for your predictions. Examine both uniform and quantile binning strategies for your plots and observe how the plots look. For which of the datasets is you model calibrated the best? Which of the binning strategies provide more informative visualization for each of the datasets?"
   ]
  },
  {
   "cell_type": "code",
   "execution_count": 60,
   "metadata": {
    "colab": {
     "base_uri": "https://localhost:8080/"
    },
    "id": "VAqA-EyldUwi",
    "outputId": "f3ad6f2e-f8ad-49b2-e3ca-c18e6e0661d6"
   },
   "outputs": [
    {
     "name": "stdout",
     "output_type": "stream",
     "text": [
      "Balanced Dataset\n",
      "0    4000\n",
      "1    4000\n",
      "Name: SeriousDlqin2yrs, dtype: int64\n",
      "0    1000\n",
      "1    1000\n",
      "Name: SeriousDlqin2yrs, dtype: int64\n",
      "Originally Imbalanced Dataset\n",
      "0    7466\n",
      "1     534\n",
      "Name: SeriousDlqin2yrs, dtype: int64\n",
      "0    1866\n",
      "1     134\n",
      "Name: SeriousDlqin2yrs, dtype: int64\n",
      "Highly Imbalanced Dataset\n",
      "0    7800\n",
      "1     200\n",
      "Name: SeriousDlqin2yrs, dtype: int64\n",
      "0    1950\n",
      "1      50\n",
      "Name: SeriousDlqin2yrs, dtype: int64\n"
     ]
    }
   ],
   "source": [
    "\n",
    "dataset = pd.read_csv(\"https://raw.githubusercontent.com/KshitijMahajan1998/AML_NEW/main/data_equally_biased_final.csv\")\n",
    "X = dataset.drop(['SeriousDlqin2yrs'], axis=1)\n",
    "y = dataset['SeriousDlqin2yrs']\n",
    "X_train1, X_test1, y_train1, y_test1 = train_test_split(X, y, test_size = 0.2, random_state = 15, stratify = y)\n",
    "print(\"Balanced Dataset\")\n",
    "# Number of classes in training Data\n",
    "print(y_train1.value_counts())\n",
    "# Number of classes in test Data\n",
    "print(y_test1.value_counts())\n",
    "\n",
    "dataset = pd.read_csv(\"https://raw.githubusercontent.com/KshitijMahajan1998/AML_NEW/main/data_originally_biased_final.csv\")\n",
    "X = dataset.drop(['SeriousDlqin2yrs'], axis=1)\n",
    "y = dataset['SeriousDlqin2yrs']\n",
    "X_train2, X_test2, y_train2, y_test2 = train_test_split(X, y, test_size = 0.2, random_state = 15, stratify = y)\n",
    "print(\"Originally Imbalanced Dataset\")\n",
    "# Number of classes in training Data\n",
    "print(y_train2.value_counts())\n",
    "# Number of classes in test Data\n",
    "print(y_test2.value_counts())\n",
    "\n",
    "dataset = pd.read_csv(\"https://raw.githubusercontent.com/KshitijMahajan1998/AML_NEW/main/data_highly_biased_final.csv\")\n",
    "X = dataset.drop(['SeriousDlqin2yrs'], axis=1)\n",
    "y = dataset['SeriousDlqin2yrs']\n",
    "X_train3, X_test3, y_train3, y_test3 = train_test_split(X, y, test_size = 0.2, random_state = 15, stratify = y)\n",
    "print(\"Highly Imbalanced Dataset\")\n",
    "# Number of classes in training Data\n",
    "print(y_train3.value_counts())\n",
    "# Number of classes in test Data\n",
    "print(y_test3.value_counts())"
   ]
  },
  {
   "cell_type": "code",
   "execution_count": 62,
   "metadata": {
    "colab": {
     "base_uri": "https://localhost:8080/"
    },
    "id": "ylGDD7IjjVp-",
    "outputId": "c76b997a-51be-4ef0-fb18-d7370863ed34"
   },
   "outputs": [
    {
     "name": "stdout",
     "output_type": "stream",
     "text": [
      "Balanced Dataset\n",
      "{'learning_rate': 0.1, 'n_estimators': 100, 'random_state': 17}\n",
      "training time 0.778 s\n",
      "predict time 0.006 s\n",
      "XGBoost conf matrix: \n",
      "[[794 206]\n",
      " [228 772]]\n",
      "Accuracy: 0.783\n",
      " AUC_ROC: 0.856863\n",
      "\n",
      "Originally Imbalanced Dataset\n",
      "{'learning_rate': 0.1, 'n_estimators': 100, 'random_state': 17}\n",
      "training time 0.759 s\n",
      "predict time 0.007 s\n",
      "XGBoost conf matrix: \n",
      "[[1843   23]\n",
      " [ 114   20]]\n",
      "Accuracy: 0.9315\n",
      " AUC_ROC: 0.8342691686263217\n",
      "\n",
      "Highly Imbalanced Dataset\n",
      "{'learning_rate': 0.01, 'n_estimators': 100, 'random_state': 17}\n",
      "training time 0.684 s\n",
      "predict time 0.006 s\n",
      "XGBoost conf matrix: \n",
      "[[1945    5]\n",
      " [  50    0]]\n",
      "Accuracy: 0.9725\n",
      " AUC_ROC: 0.8398564102564102\n",
      "\n"
     ]
    }
   ],
   "source": [
    "# Using the earlier dataset and applying XGBoost on it\n",
    "\n",
    "clf = xgboost.XGBClassifier()\n",
    "\n",
    "param_grid = {\"n_estimators\": [10, 100],\n",
    "          \"learning_rate\": [0.01, 0.1, 0.5],\n",
    "          \"random_state\": [17]\n",
    "          }\n",
    "\n",
    "# Grid search\n",
    "grid_search = GridSearchCV(clf, param_grid=param_grid)\n",
    "\n",
    "# Balanced Dataset\n",
    "print(\"Balanced Dataset\")\n",
    "grid_search.fit(X_train1, y_train1)\n",
    "print(grid_search.best_params_)\n",
    "clf.set_params(**grid_search.best_params_)\n",
    "\n",
    "t0 = time()\n",
    "clf.fit(X_train1, y_train1)\n",
    "print(\"training time\", round(time()-t0, 3), \"s\")\n",
    "\n",
    "t0 = time()\n",
    "y_pred_gbt1 = clf.predict(X_test1)\n",
    "print(\"predict time\", round(time()-t0, 3), \"s\")\n",
    "\n",
    "print(\"XGBoost conf matrix: \")\n",
    "print(confusion_matrix(y_test1, y_pred_gbt1))\n",
    "\n",
    "y_pred_proba1 = clf.predict_proba(X_test1)[:,1]\n",
    "\n",
    "acc_score = accuracy_score(y_test1,y_pred_gbt1)\n",
    "auc_score = roc_auc_score(y_test1,y_pred_proba1)\n",
    "print(\"Accuracy: {}\\n AUC_ROC: {}\\n\".format(acc_score,auc_score))\n",
    "\n",
    "\n",
    "# Originally Imbalanced Dataset\n",
    "\n",
    "print(\"Originally Imbalanced Dataset\")\n",
    "grid_search.fit(X_train2, y_train2)\n",
    "print(grid_search.best_params_)\n",
    "clf.set_params(**grid_search.best_params_)\n",
    "\n",
    "t0 = time()\n",
    "clf.fit(X_train2, y_train2)\n",
    "print(\"training time\", round(time()-t0, 3), \"s\")\n",
    "\n",
    "t0 = time()\n",
    "y_pred_gbt2 = clf.predict(X_test2)\n",
    "print(\"predict time\", round(time()-t0, 3), \"s\")\n",
    "\n",
    "print(\"XGBoost conf matrix: \")\n",
    "print(confusion_matrix(y_test2, y_pred_gbt2))\n",
    "\n",
    "y_pred_proba2 = clf.predict_proba(X_test2)[:,1]\n",
    "\n",
    "acc_score = accuracy_score(y_test2,y_pred_gbt2)\n",
    "auc_score = roc_auc_score(y_test2,y_pred_proba2)\n",
    "print(\"Accuracy: {}\\n AUC_ROC: {}\\n\".format(acc_score,auc_score))\n",
    "\n",
    "# Highly Imalanced Dataset\n",
    "\n",
    "print(\"Highly Imbalanced Dataset\")\n",
    "grid_search.fit(X_train3, y_train3)\n",
    "print(grid_search.best_params_)\n",
    "clf.set_params(**grid_search.best_params_)\n",
    "\n",
    "t0 = time()\n",
    "clf.fit(X_train3, y_train3)\n",
    "print(\"training time\", round(time()-t0, 3), \"s\")\n",
    "\n",
    "t0 = time()\n",
    "y_pred_gbt3 = clf.predict(X_test3)\n",
    "print(\"predict time\", round(time()-t0, 3), \"s\")\n",
    "\n",
    "print(\"XGBoost conf matrix: \")\n",
    "print(confusion_matrix(y_test3, y_pred_gbt3))\n",
    "\n",
    "y_pred_proba3 = clf.predict_proba(X_test3)[:,1]\n",
    "\n",
    "acc_score = accuracy_score(y_test3,y_pred_gbt3)\n",
    "auc_score = roc_auc_score(y_test3,y_pred_proba3)\n",
    "print(\"Accuracy: {}\\n AUC_ROC: {}\\n\".format(acc_score,auc_score))"
   ]
  },
  {
   "cell_type": "code",
   "execution_count": 63,
   "metadata": {
    "id": "KHmxgNDIk3xs"
   },
   "outputs": [
    {
     "data": {
      "text/plain": [
       "<matplotlib.legend.Legend at 0x7fc66c9ed8e0>"
      ]
     },
     "execution_count": 63,
     "metadata": {},
     "output_type": "execute_result"
    },
    {
     "data": {
      "image/png": "[encoded data removed]",
      "text/plain": [
       "<Figure size 432x288 with 1 Axes>"
      ]
     },
     "metadata": {
      "needs_background": "light"
     },
     "output_type": "display_data"
    }
   ],
   "source": [
    "prob_true1, prob_pred1 = calibration_curve(y_test1, y_pred_proba1,strategy='uniform')\n",
    "prob_true2, prob_pred2 = calibration_curve(y_test2, y_pred_proba2,strategy='uniform')\n",
    "prob_true3, prob_pred3 = calibration_curve(y_test3, y_pred_proba3,strategy='uniform')\n",
    "\n",
    "#Plot all calibration curves for strategy = 'uniform' (It is uniform by default)\n",
    "# Plot perfectly calibrated\n",
    "plt.plot([0, 1], [0, 1], linestyle = '--', label = 'Ideally Calibrated')\n",
    "# Plot model's calibration curve\n",
    "plt.plot( prob_pred1,prob_true1, 's-', color='red', label='Balanced Dataset')\n",
    "plt.plot( prob_pred2,prob_true2,'s-', color='blue', label='Originally Imbalanced Dataset')\n",
    "plt.plot( prob_pred3,prob_true3, 's-', color='green', label='Highly Imbalanced Dataset')\n",
    "plt.legend()\n"
   ]
  },
  {
   "cell_type": "code",
   "execution_count": 64,
   "metadata": {
    "id": "03dktaNFxCFP"
   },
   "outputs": [
    {
     "data": {
      "text/plain": [
       "<matplotlib.legend.Legend at 0x7fc66cea3fa0>"
      ]
     },
     "execution_count": 64,
     "metadata": {},
     "output_type": "execute_result"
    },
    {
     "data": {
      "image/png": "[encoded data removed]",
      "text/plain": [
       "<Figure size 432x288 with 1 Axes>"
      ]
     },
     "metadata": {
      "needs_background": "light"
     },
     "output_type": "display_data"
    }
   ],
   "source": [
    "#Plot all calibration curves for strategy = 'quantile'\n",
    "prob_true1, prob_pred1 = calibration_curve(y_test1, y_pred_proba1,strategy='quantile')\n",
    "prob_true2, prob_pred2 = calibration_curve(y_test2, y_pred_proba2,strategy='quantile')\n",
    "prob_true3, prob_pred3 = calibration_curve(y_test3, y_pred_proba3,strategy='quantile')\n",
    "\n",
    "#Plot all calibration curves for strategy = 'uniform' (It is uniform by default)\n",
    "# Plot perfectly calibrated\n",
    "plt.plot([0, 1], [0, 1], linestyle = '--', label = 'Ideally Calibrated')\n",
    "# Plot model's calibration curve\n",
    "plt.plot( prob_pred1,prob_true1, 's-', color='red', label='Balanced Dataset')\n",
    "plt.plot( prob_pred2,prob_true2,'s-', color='blue', label='Originally Imbalanced Dataset')\n",
    "plt.plot( prob_pred3,prob_true3, 's-', color='green', label='Highly Imbalanced Dataset')\n",
    "plt.legend()"
   ]
  },
  {
   "cell_type": "markdown",
   "metadata": {},
   "source": [
    "1. Calibration curve of XGBoost with balanced dataset closely follows the ideally calibrated curve. Hence,XGBoost with balanced dataset has the best calibration among the given models.\n",
    "\n",
    "2. For each of the dataset, the quantile strategy gives more information.We can see all 6 datapoints irrespective of whether or not the model makes predictions within the given bin. This is better than uniform strategy because in the uniform strategy we see that the green and blue lines are missing some points compared to the red line showing lack of information."
   ]
  },
  {
   "cell_type": "markdown",
   "metadata": {
    "id": "ss00Jw5KkJdR"
   },
   "source": [
    "# Question 4: Deep Learning Mechanisms [5 points]\n",
    "\n",
    "Briefly explain the motivation behind the following mechanisms commonly used in deep learning: <br>\n",
    "**a) [2.5 pts] Skip connections <br>**"
   ]
  },
  {
   "cell_type": "markdown",
   "metadata": {
    "id": "lzw5bMvVw_Sa"
   },
   "source": [
    "We all know that Backpropagation uses the chain rule to calculate the gradient, and as we go forward to earlier layers from the back, the gradient keeps getting smaller and smaller and becomes 0 in some cases.And if it becomes 0, we don't update the weights for that layer and simply skip it. This issue is also called as vanishing gradient and in order to improve upon it, we use skip connections.\n",
    "\n",
    "Skip connections skips some layers in the network providing an alternate path for the gradient. It feeds output of one layer as input to other layers. This helps skip connections achieve a much smoother loss surface resulting in faster model convergence. \n",
    "\n",
    "There are two ways we can use skip connections \n",
    "\n",
    "1. **ResNet:** This is skip connections via addition. Basically, back-propagating through the identity function by using vector addition and in this process preserving the gradient.\n",
    "2. **DenseNet:** This is skip connections via concatenation. Basically, concatenating feature maps to ensure maximum information flow between layers. Hence reusing features from the earlier layers.\n",
    "\n",
    "To conclude, skip connections make for an uninterrupted gradient flow from the first to last layer and feature reusability is also an added incentive."
   ]
  },
  {
   "cell_type": "markdown",
   "metadata": {},
   "source": [
    "**b) [2.5 pts] Batch normalization**"
   ]
  },
  {
   "cell_type": "markdown",
   "metadata": {},
   "source": [
    "Normalization is compressing a range of numbers to a fixed range mostly in between 0 and 1 to bring all the distributions to the same scale. Because of normalization, our inputs are standard, and so all model parameters have the same level to compete and helps in faster model convergence. \n",
    "\n",
    "As for Deep Learning, because we pass different mini-batches of data through the network instead of the whole data together, the input distribution keeps changing. But by applying normalization to each layer based on batch / mini-batch statistics we can help the model to converge faster in order to avoid unstable gradients. Exploding and vanishing gradients are very common when the parameters are in different scales."
   ]
  }
 ],
 "metadata": {
  "colab": {
   "collapsed_sections": [],
   "provenance": []
  },
  "kernelspec": {
   "display_name": "Python 3 (ipykernel)",
   "language": "python",
   "name": "python3"
  },
  "language_info": {
   "codemirror_mode": {
    "name": "ipython",
    "version": 3
   },
   "file_extension": ".py",
   "mimetype": "text/x-python",
   "name": "python",
   "nbconvert_exporter": "python",
   "pygments_lexer": "ipython3",
   "version": "3.9.13"
  }
 },
 "nbformat": 4,
 "nbformat_minor": 1
}
